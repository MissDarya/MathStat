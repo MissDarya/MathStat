{
 "cells": [
  {
   "cell_type": "markdown",
   "id": "87b23944",
   "metadata": {},
   "source": [
    "# Параметрические гипотезы"
   ]
  },
  {
   "cell_type": "markdown",
   "id": "dba327e5",
   "metadata": {},
   "source": [
    "### *Материал взят из лекций http://www.machinelearning.ru/wiki/images/3/3b/Psad_ht_parametric.pdf*"
   ]
  },
  {
   "cell_type": "markdown",
   "id": "33f40989",
   "metadata": {},
   "source": [
    "## *Z-критерий*"
   ]
  },
  {
   "cell_type": "markdown",
   "id": "8bd8f486",
   "metadata": {},
   "source": [
    "выборка: $\\quad X^{n}=\\left(X_{1}, \\ldots, X_{n}\\right), X \\sim N\\left(\\mu, \\sigma^{2}\\right)$\n",
    "$\\sigma$ известна;\n",
    "\n",
    "нулевая гипотеза: $H_{0}: \\mu=\\mu_{0}$;\n",
    "\n",
    "альтернатива: $H_{1}: \\mu<\\neq>\\mu_{0}$;\n",
    "\n",
    "статистика: $\\quad Z\\left(X^{n}\\right)=\\frac{\\bar{X}-\\mu_{0}}{\\sigma / \\sqrt{n}} ;$\n",
    "$Z\\left(X^{n}\\right) \\sim N(0,1)$ при $H_{0} ;$\n",
    "\n",
    "\n",
    "<span style=\"color:green\">*Подход через P-value*:\n",
    "\n",
    "достигаемый уровень значимости:\n",
    "$$\n",
    "p-value= \\begin{cases}1-\\operatorname{pnorm}(z, 0,1), & H_{1}: \\mu>\\mu_{0} \\\\ \\text { pnorm }(z, 0,1), & H_{1}: \\mu<\\mu_{0} \\\\ 2(1-\\operatorname{pnorm}(|z|, 0,1)), & H_{1}: \\mu \\neq \\mu_{0}\\end{cases}\n",
    "$$\n",
    "    \n",
    "<span style=\"color:green\">*Подход через значение статистики*:\n",
    "    \n",
    "$$\n",
    "z_{critical}= \\begin{cases}\\operatorname{pnorm}(z_{critical}) =\\frac{1-2\\alpha}{2}, & H_{1}: \\mu>\\mu_{0}, (z>z_{critical})\\\\ \n",
    "\\operatorname{pnorm}(z_{critical}) = -\\frac{1-2\\alpha}{2}, & H_{1}: \\mu<\\mu_{0}, (z<z_{critical}) \\\\ \\operatorname{pnorm}(z_{critical}) =\\frac{1-\\alpha}{2}, & H_{1}: \\mu \\neq \\mu_{0}, (z<z_{critical}^*, z>z_{critical}, z_{critical}^* = -z_{critical} )\\end{cases}\n",
    "$$\n",
    "    \n",
    "Вывод: https://natalibrilenova.ru/statisticheskie-gipotezyi/#%D0%9F%D0%B0%D1%80%D0%B0%D0%BC%D0%B5%D1%82%D1%80%D0%B8%D1%87%D0%B5%D1%81%D0%BA%D0%B8%D0%B5%20%D1%81%D1%82%D0%B0%D1%82%D0%B8%D1%81%D1%82%D0%B8%D1%87%D0%B5%D1%81%D0%BA%D0%B8%D0%B5%20%D0%B3%D0%B8%D0%BF%D0%BE%D1%82%D0%B5%D0%B7%D1%8B    "
   ]
  },
  {
   "cell_type": "markdown",
   "id": "37da1c13",
   "metadata": {},
   "source": [
    "**Пример (Kanji, критерий 1):** линия по производству пудры должна обеспечивать средний вес пудры в упаковке 4 грамма, заявленное стандартное отклонение - 1 грамм.\n",
    "В ходе инспекции выбрано 9 упаковок, средний вес продукта в них составляет $4.6$ грамма.\n",
    "\n",
    "$H_{0}:$ средний вес пудры в упаковке соответствует норме.\n",
    "\n",
    "$H_{1}:$ средний вес пудры в упаковке не соответствует норме $\\Rightarrow p=0.0719$,\n",
    "\n",
    "95\\% доверительный интервал для среднего веса - [3.95,5.25] г.\n",
    "\n",
    "$H_{1}$ : средний вес пудры в упаковке превышает норму $\\Rightarrow p=0.0359$,\n",
    "односторонний нижний $95 \\%$ доверительный предел для среднего веса $4.05$ г."
   ]
  },
  {
   "cell_type": "markdown",
   "id": "61f0349b",
   "metadata": {},
   "source": [
    "\n",
    "$Z = \\frac{\\bar{x} - \\mu}{\\sigma} = 1.8 $"
   ]
  },
  {
   "cell_type": "markdown",
   "id": "e98554ac",
   "metadata": {},
   "source": [
    "<ul>\n",
    " <li>$H_{1} (\\mu \\neq \\mu_{0}):$ $p-value = 2(1-\\operatorname{pnorm}(1.8, 0,1)) = 0.0719$, p-value> $\\alpha$ (0.05)</li>\n",
    " <li>$H_{1}(\\mu \\neq \\mu_{0}):$ $$\n",
    "P\\left(|U|<u_{\\frac{\\alpha}{2}}\\right)=P\\left(\\left|\\frac{\\bar{x}-m}{\\sigma / \\sqrt{n}}\\right|<u_{\\frac{\\alpha}{2}}\\right)=P\\left(\\bar{x}-u_{\\frac{\\alpha}{2}} \\frac{\\sigma}{\\sqrt{n}}<m<\\bar{x}+u_{\\frac{\\alpha}{2}} \\frac{\\sigma}{\\sqrt{n}}\\right)=1-\\alpha\n",
    "$$</li>\n",
    " <li>$H_{1}(\\mu>\\mu_{0}):$ $p-value = 1-\\operatorname{pnorm}(1.8, 0,1) = 1 - 0.9641 = 0.0359$</li>\n",
    " <li>$H_{1}(\\mu>\\mu_{0}): Z_{critical} = 1.96, \\alpha = 0.05$</li>\n",
    " </ul>"
   ]
  },
  {
   "cell_type": "markdown",
   "id": "db7beec1",
   "metadata": {},
   "source": [
    "### Пример в *R-language*"
   ]
  },
  {
   "cell_type": "code",
   "execution_count": 21,
   "id": "57df6013",
   "metadata": {},
   "outputs": [
    {
     "name": "stderr",
     "output_type": "stream",
     "text": [
      "Installing package into ‘/home/darya/R/x86_64-pc-linux-gnu-library/4.1’\n",
      "(as ‘lib’ is unspecified)\n",
      "\n",
      "also installing the dependencies ‘proxy’, ‘e1071’\n",
      "\n",
      "\n"
     ]
    }
   ],
   "source": [
    "install.packages('BSDA')"
   ]
  },
  {
   "cell_type": "code",
   "execution_count": 22,
   "id": "c2074f21",
   "metadata": {},
   "outputs": [
    {
     "name": "stderr",
     "output_type": "stream",
     "text": [
      "Loading required package: lattice\n",
      "\n",
      "\n",
      "Attaching package: ‘BSDA’\n",
      "\n",
      "\n",
      "The following object is masked from ‘package:datasets’:\n",
      "\n",
      "    Orange\n",
      "\n",
      "\n"
     ]
    }
   ],
   "source": [
    "library(BSDA)"
   ]
  },
  {
   "cell_type": "code",
   "execution_count": 36,
   "id": "26d8c231",
   "metadata": {},
   "outputs": [
    {
     "name": "stderr",
     "output_type": "stream",
     "text": [
      "Installing package into ‘/home/darya/R/x86_64-pc-linux-gnu-library/4.1’\n",
      "(as ‘lib’ is unspecified)\n",
      "\n",
      "also installing the dependencies ‘fastmap’, ‘cachem’, ‘memoise’, ‘pixmap’, ‘plotrix’, ‘mvtnorm’, ‘deSolve’, ‘combinat’, ‘multcompView’, ‘gWidgets2’, ‘gWidgets2tcltk’\n",
      "\n",
      "\n",
      "Loading required package: tcltk\n",
      "\n"
     ]
    }
   ],
   "source": [
    "install.packages('asbio')\n",
    "library('asbio')"
   ]
  },
  {
   "cell_type": "code",
   "execution_count": 39,
   "id": "8edeb472",
   "metadata": {},
   "outputs": [
    {
     "name": "stderr",
     "output_type": "stream",
     "text": [
      "Installing package into ‘/home/darya/R/x86_64-pc-linux-gnu-library/4.1’\n",
      "(as ‘lib’ is unspecified)\n",
      "\n"
     ]
    }
   ],
   "source": [
    "install.packages('pwr')\n",
    "library(pwr)"
   ]
  },
  {
   "cell_type": "code",
   "execution_count": 9,
   "id": "7bab76d2",
   "metadata": {},
   "outputs": [
    {
     "data": {
      "text/html": [
       "1.8"
      ],
      "text/latex": [
       "1.8"
      ],
      "text/markdown": [
       "1.8"
      ],
      "text/plain": [
       "[1] 1.8"
      ]
     },
     "metadata": {},
     "output_type": "display_data"
    }
   ],
   "source": [
    "n <- 9\n",
    "\n",
    "# calculate the z-statistic\n",
    "z_stat <- (4.6 - 4) / (1 / sqrt(n))\n",
    "z_stat"
   ]
  },
  {
   "cell_type": "code",
   "execution_count": 16,
   "id": "42489b0a",
   "metadata": {},
   "outputs": [
    {
     "data": {
      "text/html": [
       "0.0359303191129258"
      ],
      "text/latex": [
       "0.0359303191129258"
      ],
      "text/markdown": [
       "0.0359303191129258"
      ],
      "text/plain": [
       "[1] 0.03593032"
      ]
     },
     "metadata": {},
     "output_type": "display_data"
    }
   ],
   "source": [
    "library(distributions3)\n",
    "Z <- Normal(0, 1) \n",
    "1 - cdf(Z, 1.8) "
   ]
  },
  {
   "cell_type": "code",
   "execution_count": 17,
   "id": "40668946",
   "metadata": {},
   "outputs": [
    {
     "data": {
      "text/html": [
       "0.0718606382258516"
      ],
      "text/latex": [
       "0.0718606382258516"
      ],
      "text/markdown": [
       "0.0718606382258516"
      ],
      "text/plain": [
       "[1] 0.07186064"
      ]
     },
     "metadata": {},
     "output_type": "display_data"
    }
   ],
   "source": [
    "1 - cdf(Z, abs(1.8)) + cdf(Z, -abs(1.8))"
   ]
  },
  {
   "cell_type": "code",
   "execution_count": 51,
   "id": "ec8b4693",
   "metadata": {},
   "outputs": [
    {
     "data": {
      "text/plain": [
       "\n",
       "\tOne-sample z-Test\n",
       "\n",
       "data:  x\n",
       "z = -3.1495, p-value = 0.9992\n",
       "alternative hypothesis: true mean is greater than 1\n",
       "95 percent confidence interval:\n",
       " -0.5161155         NA\n",
       "sample estimates:\n",
       "  mean of x \n",
       "0.004032869 \n"
      ]
     },
     "metadata": {},
     "output_type": "display_data"
    }
   ],
   "source": [
    "x <- rnorm(10)\n",
    "z.test(x,sigma.x=1, mu = 1,  alternative = \"greater\")"
   ]
  },
  {
   "cell_type": "markdown",
   "id": "8dade3da",
   "metadata": {},
   "source": [
    "https://www.rdocumentation.org/packages/BSDA/versions/1.2.1/topics/z.test"
   ]
  },
  {
   "cell_type": "markdown",
   "id": "53467e6c",
   "metadata": {},
   "source": [
    "## *Критерий Стьюдента*"
   ]
  },
  {
   "cell_type": "markdown",
   "id": "eab5579b",
   "metadata": {},
   "source": [
    "## *Критерий $\\chi^2$*"
   ]
  },
  {
   "cell_type": "markdown",
   "id": "39d046ef",
   "metadata": {},
   "source": [
    "# Мощность критерия"
   ]
  },
  {
   "cell_type": "code",
   "execution_count": 38,
   "id": "ffc417e8",
   "metadata": {},
   "outputs": [
    {
     "data": {
      "text/html": [
       "<dl>\n",
       "\t<dt>$sigma</dt>\n",
       "\t\t<dd>6</dd>\n",
       "\t<dt>$n</dt>\n",
       "\t\t<dd>12.3319401849619</dd>\n",
       "\t<dt>$power</dt>\n",
       "\t\t<dd>0.9</dd>\n",
       "\t<dt>$alpha</dt>\n",
       "\t\t<dd>0.05</dd>\n",
       "\t<dt>$effect</dt>\n",
       "\t\t<dd>5</dd>\n",
       "\t<dt>$test</dt>\n",
       "\t\t<dd>'one.tail'</dd>\n",
       "</dl>\n"
      ],
      "text/latex": [
       "\\begin{description}\n",
       "\\item[\\$sigma] 6\n",
       "\\item[\\$n] 12.3319401849619\n",
       "\\item[\\$power] 0.9\n",
       "\\item[\\$alpha] 0.05\n",
       "\\item[\\$effect] 5\n",
       "\\item[\\$test] 'one.tail'\n",
       "\\end{description}\n"
      ],
      "text/markdown": [
       "$sigma\n",
       ":   6\n",
       "$n\n",
       ":   12.3319401849619\n",
       "$power\n",
       ":   0.9\n",
       "$alpha\n",
       ":   0.05\n",
       "$effect\n",
       ":   5\n",
       "$test\n",
       ":   'one.tail'\n",
       "\n",
       "\n"
      ],
      "text/plain": [
       "$sigma\n",
       "[1] 6\n",
       "\n",
       "$n\n",
       "[1] 12.33194\n",
       "\n",
       "$power\n",
       "[1] 0.9\n",
       "\n",
       "$alpha\n",
       "[1] 0.05\n",
       "\n",
       "$effect\n",
       "[1] 5\n",
       "\n",
       "$test\n",
       "[1] \"one.tail\"\n"
      ]
     },
     "metadata": {},
     "output_type": "display_data"
    }
   ],
   "source": [
    "power.z.test(sigma=6,effect=5,power=.9,test=\"one.tail\")"
   ]
  },
  {
   "cell_type": "markdown",
   "id": "46f0d340",
   "metadata": {},
   "source": [
    "# ЗАДАНИЕ"
   ]
  },
  {
   "cell_type": "code",
   "execution_count": null,
   "id": "f2a78d96",
   "metadata": {},
   "outputs": [],
   "source": [
    "В файле data_ex1.csv находятся выборки по 10 экзмпляров. Необходимо сравнить среднее между выборками s1_1 c s2_1; s1_2 c s2_2"
   ]
  }
 ],
 "metadata": {
  "kernelspec": {
   "display_name": "R",
   "language": "R",
   "name": "ir"
  },
  "language_info": {
   "codemirror_mode": "r",
   "file_extension": ".r",
   "mimetype": "text/x-r-source",
   "name": "R",
   "pygments_lexer": "r",
   "version": "4.1.1"
  }
 },
 "nbformat": 4,
 "nbformat_minor": 5
}
